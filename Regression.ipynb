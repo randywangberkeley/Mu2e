{
 "cells": [
  {
   "cell_type": "code",
   "execution_count": 1,
   "id": "655c79a1",
   "metadata": {},
   "outputs": [
    {
     "name": "stdout",
     "output_type": "stream",
     "text": [
      "Requirement already satisfied: vector in /opt/conda/lib/python3.9/site-packages (0.8.5)\n",
      "Requirement already satisfied: uproot in /opt/conda/lib/python3.9/site-packages (4.3.3)\n",
      "Requirement already satisfied: awkward in /opt/conda/lib/python3.9/site-packages (1.8.0)\n",
      "Requirement already satisfied: numpy>=1.13.3 in /opt/conda/lib/python3.9/site-packages (from vector) (1.21.6)\n",
      "Requirement already satisfied: packaging>=19.0 in /opt/conda/lib/python3.9/site-packages (from vector) (21.3)\n",
      "Requirement already satisfied: setuptools in /opt/conda/lib/python3.9/site-packages (from uproot) (58.2.0)\n",
      "Requirement already satisfied: pyparsing!=3.0.5,>=2.0.2 in /opt/conda/lib/python3.9/site-packages (from packaging>=19.0->vector) (3.0.9)\n",
      "Note: you may need to restart the kernel to use updated packages.\n"
     ]
    }
   ],
   "source": [
    "pip install vector uproot awkward"
   ]
  },
  {
   "cell_type": "code",
   "execution_count": 2,
   "id": "bc1d103a",
   "metadata": {},
   "outputs": [],
   "source": [
    "import uproot\n",
    "import numpy as np\n",
    "import matplotlib.pyplot as plt\n",
    "import awkward\n",
    "import vector\n",
    "plt.rcParams['figure.dpi'] = 100\n",
    "\n",
    "import pandas as pd\n",
    "import time\n",
    "import vector\n",
    "\n",
    "from sklearn.model_selection import train_test_split\n",
    "from sklearn.metrics import accuracy_score\n",
    "from sklearn import metrics\n",
    "from sklearn import datasets\n",
    "from sklearn.ensemble import RandomForestClassifier\n",
    "from sklearn.model_selection import train_test_split\n",
    "from sklearn import *\n",
    "from sklearn import metrics\n",
    "from sklearn.model_selection import GridSearchCV\n",
    "from sklearn.model_selection import RandomizedSearchCV\n",
    "from sklearn.neural_network import MLPClassifier\n",
    "from sklearn.linear_model import LinearRegression\n",
    "from sklearn.linear_model import LogisticRegression\n",
    "from sklearn.neural_network import MLPRegressor\n",
    "\n",
    "pot = 1.3e22\n",
    "r_mue = 3e-17\n",
    "\n",
    "seed_value = 0\n",
    "\n",
    "import os\n",
    "os.environ['PYTHONHASHSEED']=str(seed_value)\n",
    "\n",
    "\n",
    "import random\n",
    "random.seed(seed_value)\n",
    "import numpy as np\n",
    "np.random.seed(seed_value)"
   ]
  },
  {
   "cell_type": "code",
   "execution_count": 3,
   "id": "cc6e2919",
   "metadata": {},
   "outputs": [
    {
     "data": {
      "text/html": [
       "<div>\n",
       "<style scoped>\n",
       "    .dataframe tbody tr th:only-of-type {\n",
       "        vertical-align: middle;\n",
       "    }\n",
       "\n",
       "    .dataframe tbody tr th {\n",
       "        vertical-align: top;\n",
       "    }\n",
       "\n",
       "    .dataframe thead th {\n",
       "        text-align: right;\n",
       "    }\n",
       "</style>\n",
       "<table border=\"1\" class=\"dataframe\">\n",
       "  <thead>\n",
       "    <tr style=\"text-align: right;\">\n",
       "      <th></th>\n",
       "      <th>ncells</th>\n",
       "      <th>narcs</th>\n",
       "      <th>ntrkhits</th>\n",
       "      <th>ncalohits</th>\n",
       "      <th>kkstatus</th>\n",
       "      <th>kkndof</th>\n",
       "      <th>kknbf</th>\n",
       "      <th>kknmat</th>\n",
       "      <th>kknhit</th>\n",
       "      <th>kkniter</th>\n",
       "      <th>kknactive</th>\n",
       "      <th>kknnull</th>\n",
       "      <th>kkchisq</th>\n",
       "      <th>kkprob</th>\n",
       "      <th>kkmidt0</th>\n",
       "      <th>kkmidmomerr</th>\n",
       "      <th>weight</th>\n",
       "      <th>kkmidmom</th>\n",
       "      <th>mcmidmom</th>\n",
       "      <th>class</th>\n",
       "    </tr>\n",
       "  </thead>\n",
       "  <tbody>\n",
       "    <tr>\n",
       "      <th>0</th>\n",
       "      <td>42</td>\n",
       "      <td>3</td>\n",
       "      <td>41</td>\n",
       "      <td>1</td>\n",
       "      <td>0</td>\n",
       "      <td>46</td>\n",
       "      <td>74</td>\n",
       "      <td>42</td>\n",
       "      <td>42</td>\n",
       "      <td>0</td>\n",
       "      <td>39</td>\n",
       "      <td>13</td>\n",
       "      <td>70.016914</td>\n",
       "      <td>1.276834e-02</td>\n",
       "      <td>896.078186</td>\n",
       "      <td>0.119351</td>\n",
       "      <td>0.000319</td>\n",
       "      <td>104.953762</td>\n",
       "      <td>104.661412</td>\n",
       "      <td>1</td>\n",
       "    </tr>\n",
       "    <tr>\n",
       "      <th>1</th>\n",
       "      <td>42</td>\n",
       "      <td>3</td>\n",
       "      <td>40</td>\n",
       "      <td>1</td>\n",
       "      <td>0</td>\n",
       "      <td>44</td>\n",
       "      <td>79</td>\n",
       "      <td>42</td>\n",
       "      <td>41</td>\n",
       "      <td>0</td>\n",
       "      <td>39</td>\n",
       "      <td>11</td>\n",
       "      <td>57.068371</td>\n",
       "      <td>8.938216e-02</td>\n",
       "      <td>909.713684</td>\n",
       "      <td>0.157844</td>\n",
       "      <td>0.000319</td>\n",
       "      <td>104.003335</td>\n",
       "      <td>103.926295</td>\n",
       "      <td>1</td>\n",
       "    </tr>\n",
       "    <tr>\n",
       "      <th>2</th>\n",
       "      <td>65</td>\n",
       "      <td>4</td>\n",
       "      <td>61</td>\n",
       "      <td>1</td>\n",
       "      <td>0</td>\n",
       "      <td>70</td>\n",
       "      <td>93</td>\n",
       "      <td>65</td>\n",
       "      <td>62</td>\n",
       "      <td>0</td>\n",
       "      <td>62</td>\n",
       "      <td>14</td>\n",
       "      <td>77.811592</td>\n",
       "      <td>2.441538e-01</td>\n",
       "      <td>323.670502</td>\n",
       "      <td>0.112756</td>\n",
       "      <td>0.000319</td>\n",
       "      <td>103.478819</td>\n",
       "      <td>103.488916</td>\n",
       "      <td>1</td>\n",
       "    </tr>\n",
       "    <tr>\n",
       "      <th>3</th>\n",
       "      <td>64</td>\n",
       "      <td>3</td>\n",
       "      <td>60</td>\n",
       "      <td>1</td>\n",
       "      <td>0</td>\n",
       "      <td>70</td>\n",
       "      <td>103</td>\n",
       "      <td>64</td>\n",
       "      <td>61</td>\n",
       "      <td>0</td>\n",
       "      <td>51</td>\n",
       "      <td>25</td>\n",
       "      <td>191.830017</td>\n",
       "      <td>2.786454e-13</td>\n",
       "      <td>1063.765259</td>\n",
       "      <td>0.154282</td>\n",
       "      <td>0.000319</td>\n",
       "      <td>103.665509</td>\n",
       "      <td>103.707688</td>\n",
       "      <td>1</td>\n",
       "    </tr>\n",
       "    <tr>\n",
       "      <th>4</th>\n",
       "      <td>31</td>\n",
       "      <td>2</td>\n",
       "      <td>30</td>\n",
       "      <td>1</td>\n",
       "      <td>0</td>\n",
       "      <td>35</td>\n",
       "      <td>69</td>\n",
       "      <td>31</td>\n",
       "      <td>31</td>\n",
       "      <td>0</td>\n",
       "      <td>30</td>\n",
       "      <td>11</td>\n",
       "      <td>73.173729</td>\n",
       "      <td>1.652358e-04</td>\n",
       "      <td>406.672119</td>\n",
       "      <td>0.280964</td>\n",
       "      <td>0.000319</td>\n",
       "      <td>102.539806</td>\n",
       "      <td>104.489867</td>\n",
       "      <td>1</td>\n",
       "    </tr>\n",
       "  </tbody>\n",
       "</table>\n",
       "</div>"
      ],
      "text/plain": [
       "   ncells  narcs  ntrkhits  ncalohits  kkstatus  kkndof  kknbf  kknmat  \\\n",
       "0      42      3        41          1         0      46     74      42   \n",
       "1      42      3        40          1         0      44     79      42   \n",
       "2      65      4        61          1         0      70     93      65   \n",
       "3      64      3        60          1         0      70    103      64   \n",
       "4      31      2        30          1         0      35     69      31   \n",
       "\n",
       "   kknhit  kkniter  kknactive  kknnull     kkchisq        kkprob      kkmidt0  \\\n",
       "0      42        0         39       13   70.016914  1.276834e-02   896.078186   \n",
       "1      41        0         39       11   57.068371  8.938216e-02   909.713684   \n",
       "2      62        0         62       14   77.811592  2.441538e-01   323.670502   \n",
       "3      61        0         51       25  191.830017  2.786454e-13  1063.765259   \n",
       "4      31        0         30       11   73.173729  1.652358e-04   406.672119   \n",
       "\n",
       "   kkmidmomerr    weight    kkmidmom    mcmidmom  class  \n",
       "0     0.119351  0.000319  104.953762  104.661412      1  \n",
       "1     0.157844  0.000319  104.003335  103.926295      1  \n",
       "2     0.112756  0.000319  103.478819  103.488916      1  \n",
       "3     0.154282  0.000319  103.665509  103.707688      1  \n",
       "4     0.280964  0.000319  102.539806  104.489867      1  "
      ]
     },
     "execution_count": 3,
     "metadata": {},
     "output_type": "execute_result"
    }
   ],
   "source": [
    "file_ce = uproot.open(\"Mu2eDriftAmbigCeMinusTracks.root\")\n",
    "file_dio = uproot.open(\"Mu2eDriftAmbigFlatDIOTracks.root\")\n",
    "trks_ce = file_ce['trks']\n",
    "trks_dio = file_dio['trks']\n",
    "p_ce = trks_ce.arrays([\"px\",\"py\",\"pz\"], aliases={\"px\": \"kkmidmom/fCoordinates/fCoordinates.fX\",\n",
    "                                                    \"py\": \"kkmidmom/fCoordinates/fCoordinates.fY\",\n",
    "                                                    \"pz\": \"kkmidmom/fCoordinates/fCoordinates.fZ\"})\n",
    "p_dio = trks_dio.arrays([\"px\",\"py\",\"pz\"], aliases={\"px\": \"kkmidmom/fCoordinates/fCoordinates.fX\",\n",
    "                                                   \"py\": \"kkmidmom/fCoordinates/fCoordinates.fY\",\n",
    "                                                   \"pz\": \"kkmidmom/fCoordinates/fCoordinates.fZ\"})\n",
    "p_mc_ce = trks_ce.arrays([\"px\",\"py\",\"pz\"], aliases={\"px\": \"mcmidmom/fCoordinates/fCoordinates.fX\",\n",
    "                                                    \"py\": \"mcmidmom/fCoordinates/fCoordinates.fY\",\n",
    "                                                    \"pz\": \"mcmidmom/fCoordinates/fCoordinates.fZ\"})\n",
    "p_mc_dio = trks_dio.arrays([\"px\",\"py\",\"pz\"], aliases={\"px\": \"mcmidmom/fCoordinates/fCoordinates.fX\",\n",
    "                                                      \"py\": \"mcmidmom/fCoordinates/fCoordinates.fY\",\n",
    "                                                      \"pz\": \"mcmidmom/fCoordinates/fCoordinates.fZ\"})\n",
    "ce_tinfo = trks_ce['tinfo'].arrays(library='pd')\n",
    "ce_tinfo['kkmidt0'] = trks_ce['kkmidt0'].arrays(library='pd')\n",
    "ce_tinfo['kkmidmomerr'] = trks_ce['kkmidmomerr'].arrays(library='pd')\n",
    "ce_tinfo['weight'] = trks_ce['weight'].array()\n",
    "ce_tinfo['kkmidmom'] = vector.awk(p_ce).mag\n",
    "ce_tinfo['mcmidmom'] = vector.awk(p_mc_ce).mag\n",
    "ce_tinfo[ce_tinfo['kkstatus'] <= 1]\n",
    "ce_tinfo['class'] = 1\n",
    "\n",
    "dio_tinfo = trks_dio['tinfo'].arrays(library='pd')\n",
    "dio_tinfo['kkmidt0'] = trks_dio['kkmidt0'].arrays(library='pd')\n",
    "dio_tinfo['kkmidmomerr'] = trks_dio['kkmidmomerr'].arrays(library='pd')\n",
    "dio_tinfo['weight'] = trks_dio['weight'].array()\n",
    "dio_tinfo['kkmidmom'] = vector.awk(p_dio).mag\n",
    "dio_tinfo['mcmidmom'] = vector.awk(p_mc_dio).mag\n",
    "dio_tinfo['class'] = 0\n",
    "dio_tinfo[dio_tinfo['kkstatus'] <= 1]\n",
    "dio_tinfo = dio_tinfo\n",
    "full = pd.concat([ce_tinfo, dio_tinfo],ignore_index=True)\n",
    "good_quality = (full['kkstatus'] <= 1)\n",
    "bad_quality = (full['kkstatus'] <= 1) \n",
    "full.head()\n",
    "#I want to keep status, remove quality filter.\n"
   ]
  },
  {
   "cell_type": "code",
   "execution_count": 4,
   "id": "a3edc978",
   "metadata": {},
   "outputs": [
    {
     "name": "stderr",
     "output_type": "stream",
     "text": [
      "/tmp/ipykernel_1481/2596224862.py:2: SettingWithCopyWarning: \n",
      "A value is trying to be set on a copy of a slice from a DataFrame.\n",
      "Try using .loc[row_indexer,col_indexer] = value instead\n",
      "\n",
      "See the caveats in the documentation: https://pandas.pydata.org/pandas-docs/stable/user_guide/indexing.html#returning-a-view-versus-a-copy\n",
      "  train_sample['quality'] = (np.abs(full['kkmidmom']-full['mcmidmom']) < 0.1).astype(int)\n",
      "/tmp/ipykernel_1481/2596224862.py:3: SettingWithCopyWarning: \n",
      "A value is trying to be set on a copy of a slice from a DataFrame.\n",
      "Try using .loc[row_indexer,col_indexer] = value instead\n",
      "\n",
      "See the caveats in the documentation: https://pandas.pydata.org/pandas-docs/stable/user_guide/indexing.html#returning-a-view-versus-a-copy\n",
      "  train_sample['mcmidmom']= full['mcmidmom']\n",
      "/tmp/ipykernel_1481/2596224862.py:4: SettingWithCopyWarning: \n",
      "A value is trying to be set on a copy of a slice from a DataFrame.\n",
      "Try using .loc[row_indexer,col_indexer] = value instead\n",
      "\n",
      "See the caveats in the documentation: https://pandas.pydata.org/pandas-docs/stable/user_guide/indexing.html#returning-a-view-versus-a-copy\n",
      "  train_sample['kkmidmom']=full['kkmidmom']\n"
     ]
    },
    {
     "data": {
      "text/html": [
       "<div>\n",
       "<style scoped>\n",
       "    .dataframe tbody tr th:only-of-type {\n",
       "        vertical-align: middle;\n",
       "    }\n",
       "\n",
       "    .dataframe tbody tr th {\n",
       "        vertical-align: top;\n",
       "    }\n",
       "\n",
       "    .dataframe thead th {\n",
       "        text-align: right;\n",
       "    }\n",
       "</style>\n",
       "<table border=\"1\" class=\"dataframe\">\n",
       "  <thead>\n",
       "    <tr style=\"text-align: right;\">\n",
       "      <th></th>\n",
       "      <th>kknhit</th>\n",
       "      <th>kkchisq</th>\n",
       "      <th>kkprob</th>\n",
       "      <th>kkmidt0</th>\n",
       "      <th>kkmidmomerr</th>\n",
       "      <th>weight</th>\n",
       "      <th>kkmidmom</th>\n",
       "    </tr>\n",
       "  </thead>\n",
       "  <tbody>\n",
       "    <tr>\n",
       "      <th>100710</th>\n",
       "      <td>28</td>\n",
       "      <td>56.862072</td>\n",
       "      <td>4.373383e-03</td>\n",
       "      <td>992.203003</td>\n",
       "      <td>0.193924</td>\n",
       "      <td>5.150114e-05</td>\n",
       "      <td>103.275870</td>\n",
       "    </tr>\n",
       "    <tr>\n",
       "      <th>34923</th>\n",
       "      <td>50</td>\n",
       "      <td>68.457619</td>\n",
       "      <td>2.974140e-01</td>\n",
       "      <td>301.782898</td>\n",
       "      <td>0.128694</td>\n",
       "      <td>3.193099e-04</td>\n",
       "      <td>103.083137</td>\n",
       "    </tr>\n",
       "    <tr>\n",
       "      <th>107082</th>\n",
       "      <td>54</td>\n",
       "      <td>170.394882</td>\n",
       "      <td>4.423994e-17</td>\n",
       "      <td>656.026062</td>\n",
       "      <td>0.200514</td>\n",
       "      <td>1.757699e-10</td>\n",
       "      <td>105.318778</td>\n",
       "    </tr>\n",
       "    <tr>\n",
       "      <th>41977</th>\n",
       "      <td>57</td>\n",
       "      <td>52.107594</td>\n",
       "      <td>6.587580e-01</td>\n",
       "      <td>1171.226074</td>\n",
       "      <td>0.156768</td>\n",
       "      <td>3.193099e-04</td>\n",
       "      <td>103.898849</td>\n",
       "    </tr>\n",
       "    <tr>\n",
       "      <th>107076</th>\n",
       "      <td>26</td>\n",
       "      <td>67.546295</td>\n",
       "      <td>2.493536e-05</td>\n",
       "      <td>954.496277</td>\n",
       "      <td>0.232564</td>\n",
       "      <td>1.121226e-05</td>\n",
       "      <td>104.821098</td>\n",
       "    </tr>\n",
       "  </tbody>\n",
       "</table>\n",
       "</div>"
      ],
      "text/plain": [
       "        kknhit     kkchisq        kkprob      kkmidt0  kkmidmomerr  \\\n",
       "100710      28   56.862072  4.373383e-03   992.203003     0.193924   \n",
       "34923       50   68.457619  2.974140e-01   301.782898     0.128694   \n",
       "107082      54  170.394882  4.423994e-17   656.026062     0.200514   \n",
       "41977       57   52.107594  6.587580e-01  1171.226074     0.156768   \n",
       "107076      26   67.546295  2.493536e-05   954.496277     0.232564   \n",
       "\n",
       "              weight    kkmidmom  \n",
       "100710  5.150114e-05  103.275870  \n",
       "34923   3.193099e-04  103.083137  \n",
       "107082  1.757699e-10  105.318778  \n",
       "41977   3.193099e-04  103.898849  \n",
       "107076  1.121226e-05  104.821098  "
      ]
     },
     "execution_count": 4,
     "metadata": {},
     "output_type": "execute_result"
    }
   ],
   "source": [
    "train_sample = full[good_quality | bad_quality]\n",
    "train_sample['quality'] = (np.abs(full['kkmidmom']-full['mcmidmom']) < 0.1).astype(int)\n",
    "train_sample['mcmidmom']= full['mcmidmom']\n",
    "train_sample['kkmidmom']=full['kkmidmom']\n",
    "test_size = 0.4\n",
    "seed = 7\n",
    "X, Y = train_sample.loc[:, train_sample.columns!=('mcmidmom')], train_sample['mcmidmom']\n",
    "X_train, X_test, y_train, y_test = train_test_split(X, Y, test_size=test_size, random_state=seed)\n",
    "\n",
    "\n",
    "\n",
    "#exclude class and mcmidmom for features.\n",
    "    \n",
    "#Y = target = mcmidmom\n",
    "#X = features:\n",
    "\n",
    "X_train_df = X_train.loc[:, X_train.columns.isin(['kkmidmom','weight','kkmidt0','kkmidmomerr', 'kkprob', 'kkchisq','kknhit'])] #values im training with \n",
    "X_train_df.head()\n",
    "#exclude weight"
   ]
  },
  {
   "cell_type": "code",
   "execution_count": null,
   "id": "85fdaa2d",
   "metadata": {},
   "outputs": [],
   "source": []
  },
  {
   "cell_type": "code",
   "execution_count": 5,
   "id": "8832559a",
   "metadata": {},
   "outputs": [
    {
     "name": "stdout",
     "output_type": "stream",
     "text": [
      "y_pred shape: (66090,)\n",
      "y_test shape: (44060,)\n"
     ]
    }
   ],
   "source": [
    "#regressor = LogisticRegression(C=1000, penalty='l1',solver='liblinear')\n",
    "regressor=LinearRegression()\n",
    "regressor.fit(X_train_df, y_train)\n",
    "y_pred = regressor.predict(X_train_df)\n",
    "#x_test or x_train?\n",
    "#x_train_df and x_train different sizes\n",
    "\n",
    "print('y_pred shape:', y_pred.shape)\n",
    "print('y_test shape:', y_test.shape)"
   ]
  },
  {
   "cell_type": "code",
   "execution_count": 6,
   "id": "a4db54fd",
   "metadata": {},
   "outputs": [],
   "source": [
    "#train_sample['mcmidmom']"
   ]
  },
  {
   "cell_type": "code",
   "execution_count": 7,
   "id": "80ca77af",
   "metadata": {},
   "outputs": [],
   "source": [
    "#train_sample['kkmidmom']"
   ]
  },
  {
   "cell_type": "code",
   "execution_count": 8,
   "id": "1f578c70",
   "metadata": {},
   "outputs": [
    {
     "data": {
      "text/plain": [
       "<matplotlib.legend.Legend at 0x7f60c7782fa0>"
      ]
     },
     "execution_count": 8,
     "metadata": {},
     "output_type": "execute_result"
    },
    {
     "data": {
      "image/png": "[encoded data removed]",
      "text/plain": [
       "<Figure size 600x400 with 1 Axes>"
      ]
     },
     "metadata": {
      "needs_background": "light"
     },
     "output_type": "display_data"
    }
   ],
   "source": [
    "bins=40\n",
    "\n",
    "plt.hist(y_pred, bins, alpha=0.5, label='reconstructed', density=True )\n",
    "#plt.hist(y_test, bins, alpha=0.5, label='mcmid', density='True')\n",
    "plt.hist(train_sample['kkmidmom'], bins, alpha=.5, label='kkmid', density=True )\n",
    "#plt.hist(train_sample['mcmidmom'], bins, alpha=.5, label='mcmid', density='True' )\n",
    "plt.legend(loc='upper left')\n",
    "\n",
    "#y_pred/y_test different shape #should I be trying to get them to be the same shape or normalize/scale by density to 1 to compare the plot?\n",
    "#Should I be comparing y_pred(reconstructed) with y_test(filtered mcmidmom), or y_pred with train_sample['mcmidmom']\n",
    "\n",
    "#expect to see: mcmidmom biggest width, output (reconstructed) should be in between kkmid and mcmid"
   ]
  },
  {
   "cell_type": "code",
   "execution_count": 21,
   "id": "b3862e18",
   "metadata": {},
   "outputs": [
    {
     "data": {
      "text/plain": [
       "Text(0.5, 1.0, 'Linear Regressor')"
      ]
     },
     "execution_count": 21,
     "metadata": {},
     "output_type": "execute_result"
    },
    {
     "data": {
      "image/png": "[encoded data removed]",
      "text/plain": [
       "<Figure size 600x400 with 1 Axes>"
      ]
     },
     "metadata": {
      "needs_background": "light"
     },
     "output_type": "display_data"
    }
   ],
   "source": [
    "bins=50\n",
    "plt.hist(y_pred, bins, alpha=1, label='reconstructed momentum', density=True, histtype='step',range=(95,110))\n",
    "plt.hist(y_test, bins, alpha=1, label='mcmid', density=True, histtype='step',range=(95,110))\n",
    "plt.hist(train_sample['kkmidmom'], bins, alpha=1, label='kkmid', density=True, histtype='step',range=(95,110))\n",
    "plt.xlim(95,110)\n",
    "plt.legend(loc='upper left')\n",
    "plt.title('Linear Regressor')\n",
    "#try keeping nhits affects energy/mom\n",
    "#try with more complex regressors (MLPclassifier)"
   ]
  },
  {
   "cell_type": "code",
   "execution_count": 10,
   "id": "30a7b02c",
   "metadata": {},
   "outputs": [
    {
     "data": {
      "text/plain": [
       "0         104.661412\n",
       "1         103.926295\n",
       "2         103.488916\n",
       "3         103.707688\n",
       "4         104.489867\n",
       "             ...    \n",
       "112251    100.767704\n",
       "112252    100.027463\n",
       "112253     99.468345\n",
       "112254    102.433835\n",
       "112255     99.383904\n",
       "Name: mcmidmom, Length: 110150, dtype: float64"
      ]
     },
     "execution_count": 10,
     "metadata": {},
     "output_type": "execute_result"
    }
   ],
   "source": [
    "train_sample['mcmidmom']"
   ]
  },
  {
   "cell_type": "code",
   "execution_count": 11,
   "id": "20b14bf7",
   "metadata": {},
   "outputs": [
    {
     "data": {
      "text/html": [
       "<div>\n",
       "<style scoped>\n",
       "    .dataframe tbody tr th:only-of-type {\n",
       "        vertical-align: middle;\n",
       "    }\n",
       "\n",
       "    .dataframe tbody tr th {\n",
       "        vertical-align: top;\n",
       "    }\n",
       "\n",
       "    .dataframe thead th {\n",
       "        text-align: right;\n",
       "    }\n",
       "</style>\n",
       "<table border=\"1\" class=\"dataframe\">\n",
       "  <thead>\n",
       "    <tr style=\"text-align: right;\">\n",
       "      <th></th>\n",
       "      <th>ncells</th>\n",
       "      <th>narcs</th>\n",
       "      <th>ntrkhits</th>\n",
       "      <th>ncalohits</th>\n",
       "      <th>kkstatus</th>\n",
       "      <th>kkndof</th>\n",
       "      <th>kknbf</th>\n",
       "      <th>kknmat</th>\n",
       "      <th>kknhit</th>\n",
       "      <th>kkniter</th>\n",
       "      <th>kknactive</th>\n",
       "      <th>kknnull</th>\n",
       "      <th>kkchisq</th>\n",
       "      <th>kkprob</th>\n",
       "      <th>kkmidt0</th>\n",
       "      <th>kkmidmomerr</th>\n",
       "      <th>weight</th>\n",
       "      <th>kkmidmom</th>\n",
       "      <th>class</th>\n",
       "      <th>quality</th>\n",
       "    </tr>\n",
       "  </thead>\n",
       "  <tbody>\n",
       "    <tr>\n",
       "      <th>0</th>\n",
       "      <td>42</td>\n",
       "      <td>3</td>\n",
       "      <td>41</td>\n",
       "      <td>1</td>\n",
       "      <td>0</td>\n",
       "      <td>46</td>\n",
       "      <td>74</td>\n",
       "      <td>42</td>\n",
       "      <td>42</td>\n",
       "      <td>0</td>\n",
       "      <td>39</td>\n",
       "      <td>13</td>\n",
       "      <td>70.016914</td>\n",
       "      <td>1.276834e-02</td>\n",
       "      <td>896.078186</td>\n",
       "      <td>0.119351</td>\n",
       "      <td>0.000319</td>\n",
       "      <td>104.953762</td>\n",
       "      <td>1</td>\n",
       "      <td>0</td>\n",
       "    </tr>\n",
       "    <tr>\n",
       "      <th>1</th>\n",
       "      <td>42</td>\n",
       "      <td>3</td>\n",
       "      <td>40</td>\n",
       "      <td>1</td>\n",
       "      <td>0</td>\n",
       "      <td>44</td>\n",
       "      <td>79</td>\n",
       "      <td>42</td>\n",
       "      <td>41</td>\n",
       "      <td>0</td>\n",
       "      <td>39</td>\n",
       "      <td>11</td>\n",
       "      <td>57.068371</td>\n",
       "      <td>8.938216e-02</td>\n",
       "      <td>909.713684</td>\n",
       "      <td>0.157844</td>\n",
       "      <td>0.000319</td>\n",
       "      <td>104.003335</td>\n",
       "      <td>1</td>\n",
       "      <td>1</td>\n",
       "    </tr>\n",
       "    <tr>\n",
       "      <th>2</th>\n",
       "      <td>65</td>\n",
       "      <td>4</td>\n",
       "      <td>61</td>\n",
       "      <td>1</td>\n",
       "      <td>0</td>\n",
       "      <td>70</td>\n",
       "      <td>93</td>\n",
       "      <td>65</td>\n",
       "      <td>62</td>\n",
       "      <td>0</td>\n",
       "      <td>62</td>\n",
       "      <td>14</td>\n",
       "      <td>77.811592</td>\n",
       "      <td>2.441538e-01</td>\n",
       "      <td>323.670502</td>\n",
       "      <td>0.112756</td>\n",
       "      <td>0.000319</td>\n",
       "      <td>103.478819</td>\n",
       "      <td>1</td>\n",
       "      <td>1</td>\n",
       "    </tr>\n",
       "    <tr>\n",
       "      <th>3</th>\n",
       "      <td>64</td>\n",
       "      <td>3</td>\n",
       "      <td>60</td>\n",
       "      <td>1</td>\n",
       "      <td>0</td>\n",
       "      <td>70</td>\n",
       "      <td>103</td>\n",
       "      <td>64</td>\n",
       "      <td>61</td>\n",
       "      <td>0</td>\n",
       "      <td>51</td>\n",
       "      <td>25</td>\n",
       "      <td>191.830017</td>\n",
       "      <td>2.786454e-13</td>\n",
       "      <td>1063.765259</td>\n",
       "      <td>0.154282</td>\n",
       "      <td>0.000319</td>\n",
       "      <td>103.665509</td>\n",
       "      <td>1</td>\n",
       "      <td>1</td>\n",
       "    </tr>\n",
       "    <tr>\n",
       "      <th>4</th>\n",
       "      <td>31</td>\n",
       "      <td>2</td>\n",
       "      <td>30</td>\n",
       "      <td>1</td>\n",
       "      <td>0</td>\n",
       "      <td>35</td>\n",
       "      <td>69</td>\n",
       "      <td>31</td>\n",
       "      <td>31</td>\n",
       "      <td>0</td>\n",
       "      <td>30</td>\n",
       "      <td>11</td>\n",
       "      <td>73.173729</td>\n",
       "      <td>1.652358e-04</td>\n",
       "      <td>406.672119</td>\n",
       "      <td>0.280964</td>\n",
       "      <td>0.000319</td>\n",
       "      <td>102.539806</td>\n",
       "      <td>1</td>\n",
       "      <td>0</td>\n",
       "    </tr>\n",
       "    <tr>\n",
       "      <th>...</th>\n",
       "      <td>...</td>\n",
       "      <td>...</td>\n",
       "      <td>...</td>\n",
       "      <td>...</td>\n",
       "      <td>...</td>\n",
       "      <td>...</td>\n",
       "      <td>...</td>\n",
       "      <td>...</td>\n",
       "      <td>...</td>\n",
       "      <td>...</td>\n",
       "      <td>...</td>\n",
       "      <td>...</td>\n",
       "      <td>...</td>\n",
       "      <td>...</td>\n",
       "      <td>...</td>\n",
       "      <td>...</td>\n",
       "      <td>...</td>\n",
       "      <td>...</td>\n",
       "      <td>...</td>\n",
       "      <td>...</td>\n",
       "    </tr>\n",
       "    <tr>\n",
       "      <th>112251</th>\n",
       "      <td>36</td>\n",
       "      <td>3</td>\n",
       "      <td>35</td>\n",
       "      <td>1</td>\n",
       "      <td>0</td>\n",
       "      <td>40</td>\n",
       "      <td>99</td>\n",
       "      <td>36</td>\n",
       "      <td>36</td>\n",
       "      <td>0</td>\n",
       "      <td>34</td>\n",
       "      <td>12</td>\n",
       "      <td>115.065590</td>\n",
       "      <td>3.436063e-09</td>\n",
       "      <td>1904.692627</td>\n",
       "      <td>0.167662</td>\n",
       "      <td>0.327845</td>\n",
       "      <td>101.033412</td>\n",
       "      <td>0</td>\n",
       "      <td>0</td>\n",
       "    </tr>\n",
       "    <tr>\n",
       "      <th>112252</th>\n",
       "      <td>60</td>\n",
       "      <td>3</td>\n",
       "      <td>55</td>\n",
       "      <td>1</td>\n",
       "      <td>0</td>\n",
       "      <td>55</td>\n",
       "      <td>105</td>\n",
       "      <td>60</td>\n",
       "      <td>56</td>\n",
       "      <td>0</td>\n",
       "      <td>47</td>\n",
       "      <td>14</td>\n",
       "      <td>55.324127</td>\n",
       "      <td>4.623831e-01</td>\n",
       "      <td>479.316681</td>\n",
       "      <td>0.138605</td>\n",
       "      <td>0.871351</td>\n",
       "      <td>100.064075</td>\n",
       "      <td>0</td>\n",
       "      <td>1</td>\n",
       "    </tr>\n",
       "    <tr>\n",
       "      <th>112253</th>\n",
       "      <td>37</td>\n",
       "      <td>3</td>\n",
       "      <td>36</td>\n",
       "      <td>1</td>\n",
       "      <td>0</td>\n",
       "      <td>32</td>\n",
       "      <td>78</td>\n",
       "      <td>37</td>\n",
       "      <td>37</td>\n",
       "      <td>0</td>\n",
       "      <td>29</td>\n",
       "      <td>9</td>\n",
       "      <td>49.322273</td>\n",
       "      <td>2.588075e-02</td>\n",
       "      <td>1542.677368</td>\n",
       "      <td>0.264378</td>\n",
       "      <td>1.671128</td>\n",
       "      <td>99.102370</td>\n",
       "      <td>0</td>\n",
       "      <td>0</td>\n",
       "    </tr>\n",
       "    <tr>\n",
       "      <th>112254</th>\n",
       "      <td>19</td>\n",
       "      <td>2</td>\n",
       "      <td>18</td>\n",
       "      <td>1</td>\n",
       "      <td>0</td>\n",
       "      <td>20</td>\n",
       "      <td>69</td>\n",
       "      <td>19</td>\n",
       "      <td>19</td>\n",
       "      <td>0</td>\n",
       "      <td>19</td>\n",
       "      <td>7</td>\n",
       "      <td>46.704395</td>\n",
       "      <td>6.446082e-04</td>\n",
       "      <td>334.512177</td>\n",
       "      <td>0.262856</td>\n",
       "      <td>0.006383</td>\n",
       "      <td>101.797157</td>\n",
       "      <td>0</td>\n",
       "      <td>0</td>\n",
       "    </tr>\n",
       "    <tr>\n",
       "      <th>112255</th>\n",
       "      <td>41</td>\n",
       "      <td>3</td>\n",
       "      <td>38</td>\n",
       "      <td>1</td>\n",
       "      <td>0</td>\n",
       "      <td>42</td>\n",
       "      <td>73</td>\n",
       "      <td>41</td>\n",
       "      <td>39</td>\n",
       "      <td>0</td>\n",
       "      <td>37</td>\n",
       "      <td>11</td>\n",
       "      <td>100.918427</td>\n",
       "      <td>9.318022e-07</td>\n",
       "      <td>832.930115</td>\n",
       "      <td>0.183037</td>\n",
       "      <td>0.951437</td>\n",
       "      <td>98.757449</td>\n",
       "      <td>0</td>\n",
       "      <td>0</td>\n",
       "    </tr>\n",
       "  </tbody>\n",
       "</table>\n",
       "<p>110150 rows × 20 columns</p>\n",
       "</div>"
      ],
      "text/plain": [
       "        ncells  narcs  ntrkhits  ncalohits  kkstatus  kkndof  kknbf  kknmat  \\\n",
       "0           42      3        41          1         0      46     74      42   \n",
       "1           42      3        40          1         0      44     79      42   \n",
       "2           65      4        61          1         0      70     93      65   \n",
       "3           64      3        60          1         0      70    103      64   \n",
       "4           31      2        30          1         0      35     69      31   \n",
       "...        ...    ...       ...        ...       ...     ...    ...     ...   \n",
       "112251      36      3        35          1         0      40     99      36   \n",
       "112252      60      3        55          1         0      55    105      60   \n",
       "112253      37      3        36          1         0      32     78      37   \n",
       "112254      19      2        18          1         0      20     69      19   \n",
       "112255      41      3        38          1         0      42     73      41   \n",
       "\n",
       "        kknhit  kkniter  kknactive  kknnull     kkchisq        kkprob  \\\n",
       "0           42        0         39       13   70.016914  1.276834e-02   \n",
       "1           41        0         39       11   57.068371  8.938216e-02   \n",
       "2           62        0         62       14   77.811592  2.441538e-01   \n",
       "3           61        0         51       25  191.830017  2.786454e-13   \n",
       "4           31        0         30       11   73.173729  1.652358e-04   \n",
       "...        ...      ...        ...      ...         ...           ...   \n",
       "112251      36        0         34       12  115.065590  3.436063e-09   \n",
       "112252      56        0         47       14   55.324127  4.623831e-01   \n",
       "112253      37        0         29        9   49.322273  2.588075e-02   \n",
       "112254      19        0         19        7   46.704395  6.446082e-04   \n",
       "112255      39        0         37       11  100.918427  9.318022e-07   \n",
       "\n",
       "            kkmidt0  kkmidmomerr    weight    kkmidmom  class  quality  \n",
       "0        896.078186     0.119351  0.000319  104.953762      1        0  \n",
       "1        909.713684     0.157844  0.000319  104.003335      1        1  \n",
       "2        323.670502     0.112756  0.000319  103.478819      1        1  \n",
       "3       1063.765259     0.154282  0.000319  103.665509      1        1  \n",
       "4        406.672119     0.280964  0.000319  102.539806      1        0  \n",
       "...             ...          ...       ...         ...    ...      ...  \n",
       "112251  1904.692627     0.167662  0.327845  101.033412      0        0  \n",
       "112252   479.316681     0.138605  0.871351  100.064075      0        1  \n",
       "112253  1542.677368     0.264378  1.671128   99.102370      0        0  \n",
       "112254   334.512177     0.262856  0.006383  101.797157      0        0  \n",
       "112255   832.930115     0.183037  0.951437   98.757449      0        0  \n",
       "\n",
       "[110150 rows x 20 columns]"
      ]
     },
     "execution_count": 11,
     "metadata": {},
     "output_type": "execute_result"
    }
   ],
   "source": [
    "train_sample.loc[:, train_sample.columns!=('mcmidmom')]"
   ]
  },
  {
   "cell_type": "code",
   "execution_count": 12,
   "id": "ee9ec7c0",
   "metadata": {},
   "outputs": [
    {
     "name": "stderr",
     "output_type": "stream",
     "text": [
      "/opt/conda/lib/python3.9/site-packages/sklearn/base.py:450: UserWarning: X does not have valid feature names, but MLPRegressor was fitted with feature names\n",
      "  warnings.warn(\n",
      "/opt/conda/lib/python3.9/site-packages/sklearn/base.py:450: UserWarning: X does not have valid feature names, but MLPRegressor was fitted with feature names\n",
      "  warnings.warn(\n",
      "/opt/conda/lib/python3.9/site-packages/sklearn/base.py:450: UserWarning: X does not have valid feature names, but MLPRegressor was fitted with feature names\n",
      "  warnings.warn(\n",
      "/opt/conda/lib/python3.9/site-packages/sklearn/base.py:450: UserWarning: X does not have valid feature names, but MLPRegressor was fitted with feature names\n",
      "  warnings.warn(\n",
      "/opt/conda/lib/python3.9/site-packages/sklearn/base.py:450: UserWarning: X does not have valid feature names, but MLPRegressor was fitted with feature names\n",
      "  warnings.warn(\n",
      "/opt/conda/lib/python3.9/site-packages/sklearn/base.py:450: UserWarning: X does not have valid feature names, but MLPRegressor was fitted with feature names\n",
      "  warnings.warn(\n",
      "/opt/conda/lib/python3.9/site-packages/sklearn/base.py:450: UserWarning: X does not have valid feature names, but MLPRegressor was fitted with feature names\n",
      "  warnings.warn(\n",
      "/opt/conda/lib/python3.9/site-packages/sklearn/base.py:450: UserWarning: X does not have valid feature names, but MLPRegressor was fitted with feature names\n",
      "  warnings.warn(\n",
      "/opt/conda/lib/python3.9/site-packages/sklearn/base.py:450: UserWarning: X does not have valid feature names, but MLPRegressor was fitted with feature names\n",
      "  warnings.warn(\n",
      "/opt/conda/lib/python3.9/site-packages/sklearn/base.py:450: UserWarning: X does not have valid feature names, but MLPRegressor was fitted with feature names\n",
      "  warnings.warn(\n",
      "/opt/conda/lib/python3.9/site-packages/sklearn/base.py:450: UserWarning: X does not have valid feature names, but MLPRegressor was fitted with feature names\n",
      "  warnings.warn(\n",
      "/opt/conda/lib/python3.9/site-packages/sklearn/base.py:450: UserWarning: X does not have valid feature names, but MLPRegressor was fitted with feature names\n",
      "  warnings.warn(\n",
      "/opt/conda/lib/python3.9/site-packages/sklearn/base.py:450: UserWarning: X does not have valid feature names, but MLPRegressor was fitted with feature names\n",
      "  warnings.warn(\n",
      "/opt/conda/lib/python3.9/site-packages/sklearn/base.py:450: UserWarning: X does not have valid feature names, but MLPRegressor was fitted with feature names\n",
      "  warnings.warn(\n",
      "/opt/conda/lib/python3.9/site-packages/sklearn/base.py:450: UserWarning: X does not have valid feature names, but MLPRegressor was fitted with feature names\n",
      "  warnings.warn(\n",
      "/opt/conda/lib/python3.9/site-packages/sklearn/base.py:450: UserWarning: X does not have valid feature names, but MLPRegressor was fitted with feature names\n",
      "  warnings.warn(\n",
      "/opt/conda/lib/python3.9/site-packages/sklearn/base.py:450: UserWarning: X does not have valid feature names, but MLPRegressor was fitted with feature names\n",
      "  warnings.warn(\n",
      "/opt/conda/lib/python3.9/site-packages/sklearn/base.py:450: UserWarning: X does not have valid feature names, but MLPRegressor was fitted with feature names\n",
      "  warnings.warn(\n",
      "/opt/conda/lib/python3.9/site-packages/sklearn/base.py:450: UserWarning: X does not have valid feature names, but MLPRegressor was fitted with feature names\n",
      "  warnings.warn(\n",
      "/opt/conda/lib/python3.9/site-packages/sklearn/base.py:450: UserWarning: X does not have valid feature names, but MLPRegressor was fitted with feature names\n",
      "  warnings.warn(\n",
      "/opt/conda/lib/python3.9/site-packages/sklearn/base.py:450: UserWarning: X does not have valid feature names, but MLPRegressor was fitted with feature names\n",
      "  warnings.warn(\n",
      "/opt/conda/lib/python3.9/site-packages/sklearn/base.py:450: UserWarning: X does not have valid feature names, but MLPRegressor was fitted with feature names\n",
      "  warnings.warn(\n",
      "/opt/conda/lib/python3.9/site-packages/sklearn/base.py:450: UserWarning: X does not have valid feature names, but MLPRegressor was fitted with feature names\n",
      "  warnings.warn(\n",
      "/opt/conda/lib/python3.9/site-packages/sklearn/base.py:450: UserWarning: X does not have valid feature names, but MLPRegressor was fitted with feature names\n",
      "  warnings.warn(\n",
      "/opt/conda/lib/python3.9/site-packages/sklearn/base.py:450: UserWarning: X does not have valid feature names, but MLPRegressor was fitted with feature names\n",
      "  warnings.warn(\n",
      "/opt/conda/lib/python3.9/site-packages/sklearn/base.py:450: UserWarning: X does not have valid feature names, but MLPRegressor was fitted with feature names\n",
      "  warnings.warn(\n",
      "/opt/conda/lib/python3.9/site-packages/sklearn/base.py:450: UserWarning: X does not have valid feature names, but MLPRegressor was fitted with feature names\n",
      "  warnings.warn(\n",
      "/opt/conda/lib/python3.9/site-packages/sklearn/base.py:450: UserWarning: X does not have valid feature names, but MLPRegressor was fitted with feature names\n",
      "  warnings.warn(\n",
      "/opt/conda/lib/python3.9/site-packages/sklearn/base.py:450: UserWarning: X does not have valid feature names, but MLPRegressor was fitted with feature names\n",
      "  warnings.warn(\n",
      "/opt/conda/lib/python3.9/site-packages/sklearn/base.py:450: UserWarning: X does not have valid feature names, but MLPRegressor was fitted with feature names\n",
      "  warnings.warn(\n",
      "/opt/conda/lib/python3.9/site-packages/sklearn/base.py:450: UserWarning: X does not have valid feature names, but MLPRegressor was fitted with feature names\n",
      "  warnings.warn(\n"
     ]
    },
    {
     "data": {
      "text/plain": [
       "0.8771401818422053"
      ]
     },
     "execution_count": 12,
     "metadata": {},
     "output_type": "execute_result"
    }
   ],
   "source": [
    "\n",
    "classifier = MLPRegressor(activation=\"relu\",solver='adam',hidden_layer_sizes=(7,1),shuffle=False,random_state=7,early_stopping=True)\n",
    "#shuffle = false so each run is consistent + random state = 7\n",
    "X_train_df2 = X_train_df\n",
    "y_train_2=y_train\n",
    "classifier.fit(X_train_df2, y_train_2)\n",
    "y_pred2 = classifier.predict(X_train_df2)\n",
    "classifier.score(X_train_df2,y_train_2)\n",
    "#find where to set epochs in parameter\n",
    "#input layer = 7 #output = 1 #samples = 66090\n",
    "#100,100 .81\n",
    "#score x=feature set y=etc\n",
    "\n",
    "#lower loss for score accuracy (pred vs target)\n",
    "#plot loss as a fn of epoch training loss vs validation loss\n",
    "#typically 60/20/20 split\n",
    "#network is not converging "
   ]
  },
  {
   "cell_type": "code",
   "execution_count": 19,
   "id": "02aa21cc",
   "metadata": {},
   "outputs": [
    {
     "data": {
      "text/plain": [
       "Text(0.5, 1.0, 'Neural Network')"
      ]
     },
     "execution_count": 19,
     "metadata": {},
     "output_type": "execute_result"
    },
    {
     "data": {
      "image/png": "[encoded data removed]",
      "text/plain": [
       "<Figure size 600x400 with 1 Axes>"
      ]
     },
     "metadata": {
      "needs_background": "light"
     },
     "output_type": "display_data"
    }
   ],
   "source": [
    "bins=50\n",
    "plt.hist(y_pred2, bins,  label='reconstructed momentum', density=True, histtype='step', range=(95,110))\n",
    "plt.hist(y_test, bins,  label='mcmid', density=True, histtype='step', range=(95,110))\n",
    "plt.hist(X_test['kkmidmom'], bins,  label='kkmid', density=True, histtype='step',range=(95,110)) \n",
    "plt.legend(loc='upper left')\n",
    "plt.xlim(95,110)\n",
    "plt.title('Neural Network')\n",
    "\n",
    "#how do I evaluate the performance of the neural network\n",
    "#clarity of plot -- plot reco momentum vs mcmid/kkmid + clean up plots \n",
    "#keras deep learning library\n",
    "#what to plot histogram with? i.e. entire sample for kkmidmom or training set\n",
    "#test sample for comparison \n",
    "#X_train_df2['kkmidmom']\n",
    "#y_train_2 = mcmidmom\n",
    "#same range for binning (histogram)\n",
    "#neural network output /mcmidmom output should be similiar"
   ]
  },
  {
   "cell_type": "code",
   "execution_count": 14,
   "id": "c196e041",
   "metadata": {},
   "outputs": [
    {
     "data": {
      "text/plain": [
       "<matplotlib.legend.Legend at 0x7f60c7521400>"
      ]
     },
     "execution_count": 14,
     "metadata": {},
     "output_type": "execute_result"
    },
    {
     "data": {
      "image/png": "[encoded data removed]",
      "text/plain": [
       "<Figure size 600x400 with 1 Axes>"
      ]
     },
     "metadata": {
      "needs_background": "light"
     },
     "output_type": "display_data"
    }
   ],
   "source": [
    "bins=40\n",
    "plt.hist(y_pred2, bins, alpha=1, label='reconstructed', density=False,histtype='step' )\n",
    "plt.hist(train_sample['kkmidmom'], bins, alpha=1, label='kkmid', density=False,histtype='step' )\n",
    "plt.hist(train_sample['mcmidmom'], bins, alpha=1, label='mcmid', density=False,histtype='step' )\n",
    "plt.legend(loc='upper left')\n",
    "#same plot density false"
   ]
  },
  {
   "cell_type": "code",
   "execution_count": 15,
   "id": "465afc36",
   "metadata": {},
   "outputs": [
    {
     "data": {
      "text/plain": [
       "array([103.2109989 , 103.1586917 , 105.52630255, ..., 103.76564921,\n",
       "       101.62155696, 102.29092245])"
      ]
     },
     "execution_count": 15,
     "metadata": {},
     "output_type": "execute_result"
    }
   ],
   "source": [
    "y_pred2"
   ]
  },
  {
   "cell_type": "code",
   "execution_count": 16,
   "id": "a243815a",
   "metadata": {},
   "outputs": [
    {
     "data": {
      "text/plain": [
       "0         104.953762\n",
       "1         104.003335\n",
       "2         103.478819\n",
       "3         103.665509\n",
       "4         102.539806\n",
       "             ...    \n",
       "112251    101.033412\n",
       "112252    100.064075\n",
       "112253     99.102370\n",
       "112254    101.797157\n",
       "112255     98.757449\n",
       "Name: kkmidmom, Length: 110150, dtype: float64"
      ]
     },
     "execution_count": 16,
     "metadata": {},
     "output_type": "execute_result"
    }
   ],
   "source": [
    "train_sample['kkmidmom']"
   ]
  },
  {
   "cell_type": "code",
   "execution_count": 17,
   "id": "0d6b5c77",
   "metadata": {},
   "outputs": [
    {
     "data": {
      "text/plain": [
       "0         104.661412\n",
       "1         103.926295\n",
       "2         103.488916\n",
       "3         103.707688\n",
       "4         104.489867\n",
       "             ...    \n",
       "112251    100.767704\n",
       "112252    100.027463\n",
       "112253     99.468345\n",
       "112254    102.433835\n",
       "112255     99.383904\n",
       "Name: mcmidmom, Length: 110150, dtype: float64"
      ]
     },
     "execution_count": 17,
     "metadata": {},
     "output_type": "execute_result"
    }
   ],
   "source": [
    "train_sample['mcmidmom']"
   ]
  },
  {
   "cell_type": "code",
   "execution_count": 18,
   "id": "e38e7bd3",
   "metadata": {},
   "outputs": [
    {
     "ename": "NameError",
     "evalue": "name 'score' is not defined",
     "output_type": "error",
     "traceback": [
      "\u001b[0;31m---------------------------------------------------------------------------\u001b[0m",
      "\u001b[0;31mNameError\u001b[0m                                 Traceback (most recent call last)",
      "Input \u001b[0;32mIn [18]\u001b[0m, in \u001b[0;36m<cell line: 1>\u001b[0;34m()\u001b[0m\n\u001b[0;32m----> 1\u001b[0m \u001b[43mscore\u001b[49m(X, Y[X, weight])\n",
      "\u001b[0;31mNameError\u001b[0m: name 'score' is not defined"
     ]
    }
   ],
   "source": [
    "score(X, Y[X, weight])"
   ]
  },
  {
   "cell_type": "code",
   "execution_count": null,
   "id": "09760049",
   "metadata": {},
   "outputs": [],
   "source": [
    "weight=train_sample['weight']"
   ]
  },
  {
   "cell_type": "code",
   "execution_count": null,
   "id": "4f0a4476",
   "metadata": {},
   "outputs": [],
   "source": [
    "plt.plot(X_train,y_test)"
   ]
  },
  {
   "cell_type": "code",
   "execution_count": null,
   "id": "d082e6a2",
   "metadata": {},
   "outputs": [],
   "source": [
    "y_train_2"
   ]
  },
  {
   "cell_type": "code",
   "execution_count": null,
   "id": "48d43ec8",
   "metadata": {},
   "outputs": [],
   "source": [
    "y_test"
   ]
  },
  {
   "cell_type": "code",
   "execution_count": null,
   "id": "f351a4a2",
   "metadata": {},
   "outputs": [],
   "source": [
    "train_sample['mcmidmom']"
   ]
  },
  {
   "cell_type": "code",
   "execution_count": null,
   "id": "cef8e9f5",
   "metadata": {},
   "outputs": [],
   "source": [
    "X_test['kkmidmom']"
   ]
  },
  {
   "cell_type": "code",
   "execution_count": null,
   "id": "d1f7d2b5",
   "metadata": {},
   "outputs": [],
   "source": [
    "len(y_pred)"
   ]
  },
  {
   "cell_type": "code",
   "execution_count": null,
   "id": "26c83295",
   "metadata": {},
   "outputs": [],
   "source": [
    "X_train_df2['kkmidmom']"
   ]
  },
  {
   "cell_type": "code",
   "execution_count": null,
   "id": "d555c620",
   "metadata": {},
   "outputs": [],
   "source": [
    "y_train_2"
   ]
  },
  {
   "cell_type": "code",
   "execution_count": null,
   "id": "7161b539",
   "metadata": {},
   "outputs": [],
   "source": [
    "X_test"
   ]
  },
  {
   "cell_type": "code",
   "execution_count": null,
   "id": "1cf3585b",
   "metadata": {},
   "outputs": [],
   "source": [
    "y_test"
   ]
  },
  {
   "cell_type": "code",
   "execution_count": null,
   "id": "1232cbc2",
   "metadata": {},
   "outputs": [],
   "source": [
    "\n",
    "plt.plot(classifier.loss_curve_, label='train')\n",
    "plt.plot(classifier.validation_scores_,label='validation')\n",
    "print(classifier.score(X_train_df2,y_train_2))\n",
    "plt.legend()"
   ]
  },
  {
   "cell_type": "code",
   "execution_count": null,
   "id": "83f40843",
   "metadata": {},
   "outputs": [],
   "source": [
    "X_train_df2"
   ]
  },
  {
   "cell_type": "code",
   "execution_count": null,
   "id": "914b4ece",
   "metadata": {},
   "outputs": [],
   "source": []
  },
  {
   "cell_type": "code",
   "execution_count": null,
   "id": "a41b9394",
   "metadata": {},
   "outputs": [],
   "source": []
  }
 ],
 "metadata": {
  "kernelspec": {
   "display_name": "Python 3 (ipykernel)",
   "language": "python",
   "name": "python3"
  },
  "language_info": {
   "codemirror_mode": {
    "name": "ipython",
    "version": 3
   },
   "file_extension": ".py",
   "mimetype": "text/x-python",
   "name": "python",
   "nbconvert_exporter": "python",
   "pygments_lexer": "ipython3",
   "version": "3.9.13"
  }
 },
 "nbformat": 4,
 "nbformat_minor": 5
}
